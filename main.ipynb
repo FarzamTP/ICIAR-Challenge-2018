{
 "cells": [
  {
   "cell_type": "markdown",
   "metadata": {},
   "source": [
    "### Imports"
   ]
  },
  {
   "cell_type": "code",
   "execution_count": 1,
   "metadata": {},
   "outputs": [
    {
     "name": "stderr",
     "output_type": "stream",
     "text": [
      "Using TensorFlow backend.\n"
     ]
    }
   ],
   "source": [
    "import cv2\n",
    "import os\n",
    "import numpy as np\n",
    "import zipfile\n",
    "import matplotlib.pyplot as plt\n",
    "from random import shuffle\n",
    "\n",
    "np.warnings.filterwarnings('ignore')\n",
    "from keras.utils import to_categorical\n",
    "from keras.applications.vgg16 import VGG16, preprocess_input\n",
    "from keras.layers import Input, Conv2D, Dense, Flatten\n",
    "from keras.models import Model\n",
    "from keras.optimizers import Adam, SGD\n",
    "from keras.preprocessing import image\n",
    "from sklearn.preprocessing import OneHotEncoder\n",
    "import tensorflow as tf\n",
    "\n",
    "from Models import VGG, Resnet"
   ]
  },
  {
   "cell_type": "markdown",
   "metadata": {},
   "source": [
    "## Step 1 (Preprocessing)"
   ]
  },
  {
   "cell_type": "markdown",
   "metadata": {},
   "source": [
    "### Parameters"
   ]
  },
  {
   "cell_type": "code",
   "execution_count": 2,
   "metadata": {},
   "outputs": [],
   "source": [
    "# BASE_DIR = '/mnt/540a2327-e51d-4d2a-8ba0-16091f53a714/Data/Machine Learning/Datasets/BACH/'\n",
    "\n",
    "BASE_DIR = './dataset/'\n",
    "\n",
    "TRAIN_PHOTOS_DIR = BASE_DIR + 'ICIAR2018_BACH_Challenge/Photos/'\n",
    "\n",
    "TEST_PHOTOS_DIR = BASE_DIR + 'ICIAR2018_BACH_Challenge_TestDataset/Photos/'\n",
    "\n",
    "CLASSES = ['Invasive', 'InSitu', 'Normal', 'Benign']\n",
    "\n",
    "NUM_CLASSES = len(CLASSES)\n",
    "\n",
    "IMG_SIZE = 500\n",
    "\n",
    "TRAIN_TEST_RATIO = 0.8\n",
    "\n",
    "LOAD_MATRICES = False\n",
    "\n",
    "SAVE_MATRICES = False\n",
    "\n",
    "num_epochs = 100\n",
    "\n",
    "lr = 0.00001"
   ]
  },
  {
   "cell_type": "markdown",
   "metadata": {},
   "source": [
    "### Load and Save Functions"
   ]
  },
  {
   "cell_type": "code",
   "execution_count": 3,
   "metadata": {},
   "outputs": [],
   "source": [
    "def save_matrices(x, y):\n",
    "    np.save('./Matrices/X.npy', x)\n",
    "    np.save('./Matrices/Y.npy', y)\n",
    "    print(\"Matrices are all saved!\")\n",
    "    return\n",
    "\n",
    "\n",
    "def load_matrices():\n",
    "    X = np.load('./Matrices/X.npy')\n",
    "    Y = np.load('./Matrices/Y.npy')\n",
    "    print(\"Matrices are all loaded!\")\n",
    "    return X, Y"
   ]
  },
  {
   "cell_type": "markdown",
   "metadata": {},
   "source": [
    "### Shuffle Data Function"
   ]
  },
  {
   "cell_type": "code",
   "execution_count": 4,
   "metadata": {},
   "outputs": [],
   "source": [
    "def shuffle_data(x, y):\n",
    "    z = list(zip(x, y))\n",
    "    shuffle(z)\n",
    "    x, y = zip(*z)\n",
    "    return np.asarray(x), np.asarray(y)"
   ]
  },
  {
   "cell_type": "markdown",
   "metadata": {},
   "source": [
    "### Split Data to Train and Test Function"
   ]
  },
  {
   "cell_type": "code",
   "execution_count": 5,
   "metadata": {},
   "outputs": [],
   "source": [
    "def split_to_train_test(arr, ratio):\n",
    "    assert type(ratio) == float\n",
    "\n",
    "    number_of_train_samples = np.int(len(arr) * ratio)\n",
    "    number_of_test_samples = len(arr) - number_of_train_samples\n",
    "\n",
    "    train_arr, test_arr = arr[:number_of_train_samples], arr[number_of_train_samples:]\n",
    "    return train_arr, test_arr"
   ]
  },
  {
   "cell_type": "markdown",
   "metadata": {},
   "source": [
    "### Obtain X, Y"
   ]
  },
  {
   "cell_type": "code",
   "execution_count": 6,
   "metadata": {},
   "outputs": [
    {
     "name": "stdout",
     "output_type": "stream",
     "text": [
      "iv070.tif 0\n",
      "iv043.tif 0\n",
      "iv095.tif 0\n",
      "iv087.tif 0\n",
      "iv074.tif 0\n",
      "iv014.tif 0\n",
      "iv094.tif 0\n",
      "iv049.tif 0\n",
      "iv090.tif 0\n",
      "iv033.tif 0\n",
      "iv065.tif 0\n",
      "iv063.tif 0\n",
      "iv025.tif 0\n",
      "iv091.tif 0\n",
      "iv060.tif 0\n",
      "iv061.tif 0\n",
      "iv068.tif 0\n",
      "iv080.tif 0\n",
      "iv037.tif 0\n",
      "iv019.tif 0\n",
      "iv099.tif 0\n",
      "iv052.tif 0\n",
      "iv001.tif 0\n",
      "iv092.tif 0\n",
      "iv069.tif 0\n",
      "iv050.tif 0\n",
      "iv055.tif 0\n",
      "iv006.tif 0\n",
      "iv032.tif 0\n",
      "iv079.tif 0\n",
      "iv064.tif 0\n",
      "iv081.tif 0\n",
      "iv047.tif 0\n",
      "iv029.tif 0\n",
      "iv076.tif 0\n",
      "iv054.tif 0\n",
      "iv007.tif 0\n",
      "iv027.tif 0\n",
      "iv078.tif 0\n",
      "iv044.tif 0\n",
      "iv097.tif 0\n",
      "iv072.tif 0\n",
      "iv073.tif 0\n",
      "iv036.tif 0\n",
      "iv067.tif 0\n",
      "iv021.tif 0\n",
      "iv011.tif 0\n",
      "iv058.tif 0\n",
      "iv046.tif 0\n",
      "iv024.tif 0\n",
      "iv010.tif 0\n",
      "iv038.tif 0\n",
      "iv077.tif 0\n",
      "iv013.tif 0\n",
      "iv082.tif 0\n",
      "iv017.tif 0\n",
      "iv089.tif 0\n",
      "iv066.tif 0\n",
      "iv012.tif 0\n",
      "iv053.tif 0\n",
      "iv026.tif 0\n",
      "iv030.tif 0\n",
      "iv057.tif 0\n",
      "iv040.tif 0\n",
      "iv003.tif 0\n",
      "iv083.tif 0\n",
      "iv041.tif 0\n",
      "iv004.tif 0\n",
      "iv098.tif 0\n",
      "iv031.tif 0\n",
      "iv015.tif 0\n",
      "iv051.tif 0\n",
      "iv048.tif 0\n",
      "iv093.tif 0\n",
      "iv008.tif 0\n",
      "iv034.tif 0\n",
      "iv088.tif 0\n",
      "iv075.tif 0\n",
      "iv056.tif 0\n",
      "iv016.tif 0\n",
      "iv084.tif 0\n",
      "iv028.tif 0\n",
      "iv100.tif 0\n",
      "iv023.tif 0\n",
      "iv085.tif 0\n",
      "iv096.tif 0\n",
      "iv035.tif 0\n",
      "iv022.tif 0\n",
      "iv059.tif 0\n",
      "iv062.tif 0\n",
      "iv045.tif 0\n",
      "iv042.tif 0\n",
      "iv002.tif 0\n",
      "iv071.tif 0\n",
      "iv039.tif 0\n",
      "iv086.tif 0\n",
      "iv020.tif 0\n",
      "iv018.tif 0\n",
      "iv009.tif 0\n",
      "iv005.tif 0\n",
      "is024.tif 1\n",
      "is053.tif 1\n",
      "is081.tif 1\n",
      "is006.tif 1\n",
      "is094.tif 1\n",
      "is093.tif 1\n",
      "is008.tif 1\n",
      "is028.tif 1\n",
      "is045.tif 1\n",
      "is026.tif 1\n",
      "is077.tif 1\n",
      "is092.tif 1\n",
      "is072.tif 1\n",
      "is037.tif 1\n",
      "is059.tif 1\n",
      "is070.tif 1\n",
      "is060.tif 1\n",
      "is086.tif 1\n",
      "is080.tif 1\n",
      "is041.tif 1\n",
      "is038.tif 1\n",
      "is017.tif 1\n",
      "is012.tif 1\n",
      "is029.tif 1\n",
      "is048.tif 1\n",
      "is089.tif 1\n",
      "is003.tif 1\n",
      "is054.tif 1\n",
      "is014.tif 1\n",
      "is082.tif 1\n",
      "is073.tif 1\n",
      "is050.tif 1\n",
      "is065.tif 1\n",
      "is074.tif 1\n",
      "is022.tif 1\n",
      "is032.tif 1\n",
      "is007.tif 1\n",
      "is047.tif 1\n",
      "is016.tif 1\n",
      "is039.tif 1\n",
      "is064.tif 1\n",
      "is067.tif 1\n",
      "is027.tif 1\n",
      "is098.tif 1\n",
      "is058.tif 1\n",
      "is019.tif 1\n",
      "is031.tif 1\n",
      "is052.tif 1\n",
      "is015.tif 1\n",
      "is040.tif 1\n",
      "is100.tif 1\n",
      "is010.tif 1\n",
      "is088.tif 1\n",
      "is030.tif 1\n",
      "is002.tif 1\n",
      "is025.tif 1\n",
      "is023.tif 1\n",
      "is033.tif 1\n",
      "is049.tif 1\n",
      "is083.tif 1\n",
      "is021.tif 1\n",
      "is095.tif 1\n",
      "is042.tif 1\n",
      "is069.tif 1\n",
      "is099.tif 1\n",
      "is079.tif 1\n",
      "is043.tif 1\n",
      "is018.tif 1\n",
      "is091.tif 1\n",
      "is068.tif 1\n",
      "is063.tif 1\n",
      "is075.tif 1\n",
      "is061.tif 1\n",
      "is035.tif 1\n",
      "is013.tif 1\n",
      "is090.tif 1\n",
      "is062.tif 1\n",
      "is020.tif 1\n",
      "is066.tif 1\n",
      "is051.tif 1\n",
      "is036.tif 1\n",
      "is055.tif 1\n",
      "is046.tif 1\n",
      "is078.tif 1\n",
      "is096.tif 1\n",
      "is044.tif 1\n",
      "is034.tif 1\n",
      "is057.tif 1\n",
      "is071.tif 1\n",
      "is009.tif 1\n",
      "is011.tif 1\n",
      "is097.tif 1\n",
      "is005.tif 1\n",
      "is087.tif 1\n",
      "is084.tif 1\n",
      "is004.tif 1\n",
      "is085.tif 1\n",
      "is001.tif 1\n",
      "is056.tif 1\n",
      "is076.tif 1\n",
      "n061.tif 2\n",
      "n003.tif 2\n",
      "n050.tif 2\n",
      "n028.tif 2\n",
      "n094.tif 2\n",
      "n073.tif 2\n",
      "n067.tif 2\n",
      "n096.tif 2\n",
      "n080.tif 2\n",
      "n083.tif 2\n",
      "n046.tif 2\n",
      "n076.tif 2\n",
      "n037.tif 2\n",
      "n079.tif 2\n",
      "n091.tif 2\n",
      "n041.tif 2\n",
      "n033.tif 2\n",
      "n048.tif 2\n",
      "n099.tif 2\n",
      "n002.tif 2\n",
      "n052.tif 2\n",
      "n085.tif 2\n",
      "n049.tif 2\n",
      "n042.tif 2\n",
      "n006.tif 2\n",
      "n027.tif 2\n",
      "n066.tif 2\n",
      "n100.tif 2\n",
      "n019.tif 2\n",
      "n014.tif 2\n",
      "n025.tif 2\n",
      "n017.tif 2\n",
      "n031.tif 2\n",
      "n044.tif 2\n",
      "n053.tif 2\n",
      "n009.tif 2\n",
      "n089.tif 2\n",
      "n059.tif 2\n",
      "n098.tif 2\n",
      "n038.tif 2\n",
      "n074.tif 2\n",
      "n075.tif 2\n",
      "n063.tif 2\n",
      "n018.tif 2\n",
      "n004.tif 2\n",
      "n087.tif 2\n",
      "n084.tif 2\n",
      "n062.tif 2\n",
      "n069.tif 2\n",
      "n013.tif 2\n",
      "n029.tif 2\n",
      "n051.tif 2\n",
      "n039.tif 2\n",
      "n057.tif 2\n",
      "n065.tif 2\n",
      "n015.tif 2\n",
      "n081.tif 2\n",
      "n036.tif 2\n",
      "n092.tif 2\n",
      "n012.tif 2\n",
      "n023.tif 2\n",
      "n088.tif 2\n",
      "n035.tif 2\n",
      "n055.tif 2\n",
      "n097.tif 2\n",
      "n021.tif 2\n",
      "n060.tif 2\n",
      "n082.tif 2\n",
      "n024.tif 2\n",
      "n032.tif 2\n",
      "n043.tif 2\n",
      "n058.tif 2\n",
      "n093.tif 2\n",
      "n070.tif 2\n",
      "n086.tif 2\n",
      "n026.tif 2\n",
      "n005.tif 2\n",
      "n072.tif 2\n",
      "n016.tif 2\n",
      "n011.tif 2\n",
      "n056.tif 2\n",
      "n022.tif 2\n",
      "n007.tif 2\n",
      "n068.tif 2\n",
      "n008.tif 2\n",
      "n030.tif 2\n",
      "n010.tif 2\n",
      "n020.tif 2\n",
      "n071.tif 2\n",
      "n077.tif 2\n",
      "n045.tif 2\n",
      "n064.tif 2\n",
      "n034.tif 2\n",
      "n040.tif 2\n",
      "n095.tif 2\n",
      "n001.tif 2\n",
      "n054.tif 2\n",
      "n047.tif 2\n",
      "n090.tif 2\n",
      "n078.tif 2\n",
      "b026.tif 3\n",
      "b032.tif 3\n",
      "b014.tif 3\n",
      "b089.tif 3\n",
      "b096.tif 3\n",
      "b074.tif 3\n",
      "b084.tif 3\n",
      "b082.tif 3\n",
      "b088.tif 3\n",
      "b016.tif 3\n",
      "b070.tif 3\n",
      "b023.tif 3\n",
      "b024.tif 3\n",
      "b031.tif 3\n",
      "b025.tif 3\n",
      "b021.tif 3\n",
      "b087.tif 3\n",
      "b019.tif 3\n",
      "b064.tif 3\n",
      "b015.tif 3\n",
      "b022.tif 3\n",
      "b056.tif 3\n",
      "b068.tif 3\n",
      "b033.tif 3\n",
      "b057.tif 3\n",
      "b012.tif 3\n",
      "b037.tif 3\n",
      "b076.tif 3\n",
      "b099.tif 3\n",
      "b051.tif 3\n",
      "b009.tif 3\n",
      "b052.tif 3\n",
      "b010.tif 3\n",
      "b065.tif 3\n",
      "b060.tif 3\n",
      "b035.tif 3\n",
      "b008.tif 3\n",
      "b044.tif 3\n",
      "b038.tif 3\n",
      "b045.tif 3\n",
      "b067.tif 3\n",
      "b027.tif 3\n",
      "b081.tif 3\n",
      "b030.tif 3\n",
      "b061.tif 3\n",
      "b075.tif 3\n",
      "b100.tif 3\n",
      "b017.tif 3\n",
      "b097.tif 3\n",
      "b093.tif 3\n",
      "b039.tif 3\n",
      "b029.tif 3\n",
      "b005.tif 3\n",
      "b062.tif 3\n",
      "b083.tif 3\n",
      "b092.tif 3\n",
      "b001.tif 3\n",
      "b013.tif 3\n",
      "b069.tif 3\n",
      "b020.tif 3\n",
      "b058.tif 3\n",
      "b011.tif 3\n",
      "b041.tif 3\n",
      "b078.tif 3\n",
      "b071.tif 3\n",
      "b050.tif 3\n",
      "b055.tif 3\n",
      "b073.tif 3\n",
      "b085.tif 3\n",
      "b053.tif 3\n",
      "b094.tif 3\n",
      "b086.tif 3\n",
      "b042.tif 3\n",
      "b046.tif 3\n",
      "b007.tif 3\n",
      "b066.tif 3\n",
      "b002.tif 3\n",
      "b080.tif 3\n",
      "b059.tif 3\n",
      "b040.tif 3\n",
      "b036.tif 3\n",
      "b043.tif 3\n",
      "b049.tif 3\n",
      "b006.tif 3\n",
      "b095.tif 3\n",
      "b098.tif 3\n",
      "b004.tif 3\n",
      "b018.tif 3\n",
      "b079.tif 3\n",
      "b047.tif 3\n",
      "b077.tif 3\n",
      "b072.tif 3\n",
      "b034.tif 3\n",
      "b003.tif 3\n",
      "b091.tif 3\n",
      "b054.tif 3\n",
      "b063.tif 3\n",
      "b090.tif 3\n",
      "b048.tif 3\n",
      "b028.tif 3\n",
      "(400,)\n"
     ]
    }
   ],
   "source": [
    "if LOAD_MATRICES:\n",
    "    X, Y = load_matrices()\n",
    "else:\n",
    "    X = []\n",
    "    Y = []\n",
    "\n",
    "    for idx, class_name in enumerate(CLASSES):\n",
    "        CLASS_TRAIN_PHOTOS_DIR = TRAIN_PHOTOS_DIR + class_name\n",
    "        for img_name in os.listdir(CLASS_TRAIN_PHOTOS_DIR):\n",
    "            if img_name.split(\".\")[1] == 'tif':\n",
    "                IMG_DIR = CLASS_TRAIN_PHOTOS_DIR + '/%s' % img_name\n",
    "                img = image.load_img(IMG_DIR, target_size=(IMG_SIZE, IMG_SIZE))\n",
    "                x = image.img_to_array(img)\n",
    "                x = np.expand_dims(x, axis=0)\n",
    "                x = preprocess_input(x)\n",
    "    #           img = cv2.imread(IMG_DIR)\n",
    "    #           img.resize((IMG_SIZE, IMG_SIZE, 3))\n",
    "    #           img = img.astype('float64') / 255.\n",
    "                X.append(x)\n",
    "                Y.append(idx)\n",
    "                print(img_name, idx)\n",
    "\n",
    "    X = np.asarray(X)\n",
    "    print(np.asarray(Y).shape)\n",
    "    Y = np.asarray(to_categorical(Y))\n",
    "    \n",
    "    X = np.vstack(X)\n",
    "    Y = np.vstack(Y)\n",
    "    if SAVE_MATRICES:\n",
    "        save_matrices(X, Y)\n",
    "        print(\"Matrices saved!\")"
   ]
  },
  {
   "cell_type": "markdown",
   "metadata": {},
   "source": [
    "### Shuffling X, Y"
   ]
  },
  {
   "cell_type": "code",
   "execution_count": 7,
   "metadata": {},
   "outputs": [],
   "source": [
    "X, Y = shuffle_data(X, Y)"
   ]
  },
  {
   "cell_type": "markdown",
   "metadata": {},
   "source": [
    "### Compute Subsets"
   ]
  },
  {
   "cell_type": "code",
   "execution_count": 8,
   "metadata": {},
   "outputs": [],
   "source": [
    "x_train, x_test = split_to_train_test(X, TRAIN_TEST_RATIO)\n",
    "y_train, y_test = split_to_train_test(Y, TRAIN_TEST_RATIO)"
   ]
  },
  {
   "cell_type": "code",
   "execution_count": 9,
   "metadata": {},
   "outputs": [
    {
     "name": "stdout",
     "output_type": "stream",
     "text": [
      "X Train Shape: (320, 500, 500, 3)\n",
      "Y Train Shape: (320, 4)\n",
      "X Test Shape: (80, 500, 500, 3)\n",
      "Y Test Shape: (80, 4)\n"
     ]
    }
   ],
   "source": [
    "print(\"X Train Shape:\", x_train.shape)\n",
    "print(\"Y Train Shape:\", y_train.shape)\n",
    "print(\"X Test Shape:\", x_test.shape)\n",
    "print(\"Y Test Shape:\", y_test.shape)"
   ]
  },
  {
   "cell_type": "markdown",
   "metadata": {},
   "source": [
    "## Step2 (Model Selection)"
   ]
  },
  {
   "cell_type": "code",
   "execution_count": 10,
   "metadata": {},
   "outputs": [],
   "source": [
    "vgg_model = VGG(model_name='My_VGG16',\n",
    "                input_shape=(IMG_SIZE, IMG_SIZE, 3),\n",
    "                input_layer_name='input_layer',\n",
    "                num_classes=NUM_CLASSES)\n",
    "\n",
    "\n",
    "# res_model = Resnet(input_layer_name='input_layer',\n",
    "#                    input_shape=(IMG_SIZE, IMG_SIZE, 3),\n",
    "#                    num_classes=NUM_CLASSES)"
   ]
  },
  {
   "cell_type": "markdown",
   "metadata": {},
   "source": [
    "### Creating Model"
   ]
  },
  {
   "cell_type": "code",
   "execution_count": 11,
   "metadata": {},
   "outputs": [
    {
     "name": "stdout",
     "output_type": "stream",
     "text": [
      "Model: \"model_1\"\n",
      "_________________________________________________________________\n",
      "Layer (type)                 Output Shape              Param #   \n",
      "=================================================================\n",
      "input_layer (InputLayer)     (None, 500, 500, 3)       0         \n",
      "_________________________________________________________________\n",
      "block1_conv1 (Conv2D)        (None, 500, 500, 64)      1792      \n",
      "_________________________________________________________________\n",
      "block1_pool (MaxPooling2D)   (None, 167, 167, 64)      0         \n",
      "_________________________________________________________________\n",
      "block2_conv2 (Conv2D)        (None, 167, 167, 128)     73856     \n",
      "_________________________________________________________________\n",
      "block2_pool (MaxPooling2D)   (None, 83, 83, 128)       0         \n",
      "_________________________________________________________________\n",
      "block3_conv1 (Conv2D)        (None, 83, 83, 256)       295168    \n",
      "_________________________________________________________________\n",
      "block3_pool (MaxPooling2D)   (None, 41, 41, 256)       0         \n",
      "_________________________________________________________________\n",
      "block4_conv1 (Conv2D)        (None, 41, 41, 512)       1180160   \n",
      "_________________________________________________________________\n",
      "block4_pool (MaxPooling2D)   (None, 20, 20, 512)       0         \n",
      "_________________________________________________________________\n",
      "block5_conv1 (Conv2D)        (None, 20, 20, 512)       2359808   \n",
      "_________________________________________________________________\n",
      "block5_pool (MaxPooling2D)   (None, 10, 10, 512)       0         \n",
      "_________________________________________________________________\n",
      "flatten (Flatten)            (None, 51200)             0         \n",
      "_________________________________________________________________\n",
      "fc2 (Dense)                  (None, 128)               6553728   \n",
      "_________________________________________________________________\n",
      "predictions (Dense)          (None, 4)                 516       \n",
      "=================================================================\n",
      "Total params: 10,465,028\n",
      "Trainable params: 10,465,028\n",
      "Non-trainable params: 0\n",
      "_________________________________________________________________\n"
     ]
    }
   ],
   "source": [
    "model = vgg_model.construct_net()\n",
    "# model = res_model.construct_net()\n",
    "model.summary()"
   ]
  },
  {
   "cell_type": "markdown",
   "metadata": {},
   "source": [
    "### Compiling Model"
   ]
  },
  {
   "cell_type": "code",
   "execution_count": 12,
   "metadata": {},
   "outputs": [],
   "source": [
    "if NUM_CLASSES != 2:\n",
    "    model.compile(optimizer=Adam(learning_rate=lr, decay=0.01),\n",
    "                  loss='categorical_crossentropy',\n",
    "                  metrics=['accuracy'])\n",
    "else:\n",
    "    model.compile(optimizer=Adam(learning_rate=lr, decay=0.01),\n",
    "                  loss='binary_crossentropy',\n",
    "                  metrics=['accuracy'])"
   ]
  },
  {
   "cell_type": "markdown",
   "metadata": {},
   "source": [
    "\n",
    "### Test GPU Available"
   ]
  },
  {
   "cell_type": "code",
   "execution_count": 13,
   "metadata": {},
   "outputs": [
    {
     "name": "stdout",
     "output_type": "stream",
     "text": [
      "WARNING:tensorflow:From <ipython-input-13-17bb7203622b>:1: is_gpu_available (from tensorflow.python.framework.test_util) is deprecated and will be removed in a future version.\n",
      "Instructions for updating:\n",
      "Use `tf.config.list_physical_devices('GPU')` instead.\n"
     ]
    },
    {
     "data": {
      "text/plain": [
       "True"
      ]
     },
     "execution_count": 13,
     "metadata": {},
     "output_type": "execute_result"
    }
   ],
   "source": [
    "tf.test.is_gpu_available()"
   ]
  },
  {
   "cell_type": "markdown",
   "metadata": {},
   "source": [
    "### Fitting Model"
   ]
  },
  {
   "cell_type": "code",
   "execution_count": 14,
   "metadata": {},
   "outputs": [
    {
     "name": "stdout",
     "output_type": "stream",
     "text": [
      "Train on 320 samples, validate on 80 samples\n",
      "Epoch 1/100\n",
      "320/320 [==============================] - 11s 35ms/step - loss: 14.7534 - accuracy: 0.2500 - val_loss: 12.3126 - val_accuracy: 0.2875\n",
      "Epoch 2/100\n",
      "320/320 [==============================] - 5s 15ms/step - loss: 12.0600 - accuracy: 0.3219 - val_loss: 12.1017 - val_accuracy: 0.2875\n",
      "Epoch 3/100\n",
      "320/320 [==============================] - 5s 15ms/step - loss: 11.5206 - accuracy: 0.4344 - val_loss: 11.8374 - val_accuracy: 0.3750\n",
      "Epoch 4/100\n",
      "320/320 [==============================] - 5s 15ms/step - loss: 11.3880 - accuracy: 0.4781 - val_loss: 11.6321 - val_accuracy: 0.3625\n",
      "Epoch 5/100\n",
      "320/320 [==============================] - 5s 15ms/step - loss: 11.1972 - accuracy: 0.5594 - val_loss: 11.6182 - val_accuracy: 0.4375\n",
      "Epoch 6/100\n",
      "320/320 [==============================] - 5s 15ms/step - loss: 11.1180 - accuracy: 0.5938 - val_loss: 11.6070 - val_accuracy: 0.4125\n",
      "Epoch 7/100\n",
      "320/320 [==============================] - 5s 15ms/step - loss: 11.0617 - accuracy: 0.6187 - val_loss: 11.4871 - val_accuracy: 0.4375\n",
      "Epoch 8/100\n",
      "320/320 [==============================] - 5s 15ms/step - loss: 10.9213 - accuracy: 0.7031 - val_loss: 11.5293 - val_accuracy: 0.4000\n",
      "Epoch 9/100\n",
      "320/320 [==============================] - 5s 15ms/step - loss: 10.8694 - accuracy: 0.7125 - val_loss: 11.4422 - val_accuracy: 0.4750\n",
      "Epoch 10/100\n",
      "320/320 [==============================] - 5s 15ms/step - loss: 10.7737 - accuracy: 0.7750 - val_loss: 11.4246 - val_accuracy: 0.4750\n",
      "Epoch 11/100\n",
      "320/320 [==============================] - 5s 15ms/step - loss: 10.7081 - accuracy: 0.8281 - val_loss: 11.4545 - val_accuracy: 0.4000\n",
      "Epoch 12/100\n",
      "320/320 [==============================] - 5s 15ms/step - loss: 10.7071 - accuracy: 0.7906 - val_loss: 11.3906 - val_accuracy: 0.4875\n",
      "Epoch 13/100\n",
      "320/320 [==============================] - 5s 15ms/step - loss: 10.6737 - accuracy: 0.8313 - val_loss: 11.4022 - val_accuracy: 0.4625\n",
      "Epoch 14/100\n",
      "320/320 [==============================] - 5s 15ms/step - loss: 10.5935 - accuracy: 0.8687 - val_loss: 11.3358 - val_accuracy: 0.5125\n",
      "Epoch 15/100\n",
      "320/320 [==============================] - 5s 15ms/step - loss: 10.5553 - accuracy: 0.8781 - val_loss: 11.3301 - val_accuracy: 0.4750\n",
      "Epoch 16/100\n",
      "320/320 [==============================] - 5s 15ms/step - loss: 10.5391 - accuracy: 0.8719 - val_loss: 11.3953 - val_accuracy: 0.4375\n",
      "Epoch 17/100\n",
      "320/320 [==============================] - 5s 15ms/step - loss: 10.4937 - accuracy: 0.8906 - val_loss: 11.3406 - val_accuracy: 0.5375\n",
      "Epoch 18/100\n",
      "320/320 [==============================] - 5s 15ms/step - loss: 10.4679 - accuracy: 0.8906 - val_loss: 11.3184 - val_accuracy: 0.4750\n",
      "Epoch 19/100\n",
      "320/320 [==============================] - 5s 15ms/step - loss: 10.4312 - accuracy: 0.9219 - val_loss: 11.3686 - val_accuracy: 0.4625\n",
      "Epoch 20/100\n",
      "320/320 [==============================] - 5s 15ms/step - loss: 10.4217 - accuracy: 0.8969 - val_loss: 11.2749 - val_accuracy: 0.4875\n",
      "Epoch 21/100\n",
      "320/320 [==============================] - 5s 15ms/step - loss: 10.3869 - accuracy: 0.9281 - val_loss: 11.3046 - val_accuracy: 0.5000\n",
      "Epoch 22/100\n",
      "320/320 [==============================] - 5s 15ms/step - loss: 10.3511 - accuracy: 0.9438 - val_loss: 11.2579 - val_accuracy: 0.5000\n",
      "Epoch 23/100\n",
      "320/320 [==============================] - 5s 16ms/step - loss: 10.3333 - accuracy: 0.9469 - val_loss: 11.2647 - val_accuracy: 0.5000\n",
      "Epoch 24/100\n",
      "320/320 [==============================] - 5s 15ms/step - loss: 10.3107 - accuracy: 0.9406 - val_loss: 11.2995 - val_accuracy: 0.4750\n",
      "Epoch 25/100\n",
      "320/320 [==============================] - 5s 15ms/step - loss: 10.2969 - accuracy: 0.9500 - val_loss: 11.2082 - val_accuracy: 0.5000\n",
      "Epoch 26/100\n",
      "320/320 [==============================] - 5s 16ms/step - loss: 10.2901 - accuracy: 0.9469 - val_loss: 11.2290 - val_accuracy: 0.5000\n",
      "Epoch 27/100\n",
      "320/320 [==============================] - 5s 15ms/step - loss: 10.2572 - accuracy: 0.9563 - val_loss: 11.1943 - val_accuracy: 0.5125\n",
      "Epoch 28/100\n",
      "320/320 [==============================] - 5s 16ms/step - loss: 10.2459 - accuracy: 0.9594 - val_loss: 11.1683 - val_accuracy: 0.5250\n",
      "Epoch 29/100\n",
      "320/320 [==============================] - 5s 16ms/step - loss: 10.2211 - accuracy: 0.9625 - val_loss: 11.1948 - val_accuracy: 0.4875\n",
      "Epoch 30/100\n",
      "320/320 [==============================] - 5s 16ms/step - loss: 10.2007 - accuracy: 0.9688 - val_loss: 11.2166 - val_accuracy: 0.5125\n",
      "Epoch 31/100\n",
      "320/320 [==============================] - 5s 16ms/step - loss: 10.2025 - accuracy: 0.9563 - val_loss: 11.1655 - val_accuracy: 0.5000\n",
      "Epoch 32/100\n",
      "320/320 [==============================] - 5s 16ms/step - loss: 10.1673 - accuracy: 0.9688 - val_loss: 11.1527 - val_accuracy: 0.5125\n",
      "Epoch 33/100\n",
      "320/320 [==============================] - 5s 16ms/step - loss: 10.1527 - accuracy: 0.9844 - val_loss: 11.1333 - val_accuracy: 0.5250\n",
      "Epoch 34/100\n",
      "320/320 [==============================] - 5s 16ms/step - loss: 10.1411 - accuracy: 0.9750 - val_loss: 11.1456 - val_accuracy: 0.4750\n",
      "Epoch 35/100\n",
      "320/320 [==============================] - 5s 16ms/step - loss: 10.1326 - accuracy: 0.9812 - val_loss: 11.1330 - val_accuracy: 0.4875\n",
      "Epoch 36/100\n",
      "320/320 [==============================] - 5s 16ms/step - loss: 10.1123 - accuracy: 0.9875 - val_loss: 11.1241 - val_accuracy: 0.5125\n",
      "Epoch 37/100\n",
      "320/320 [==============================] - 5s 16ms/step - loss: 10.1029 - accuracy: 0.9875 - val_loss: 11.1096 - val_accuracy: 0.5125\n",
      "Epoch 38/100\n",
      "320/320 [==============================] - 5s 16ms/step - loss: 10.0895 - accuracy: 0.9844 - val_loss: 11.0944 - val_accuracy: 0.5375\n",
      "Epoch 39/100\n",
      "320/320 [==============================] - 5s 16ms/step - loss: 10.0785 - accuracy: 0.9875 - val_loss: 11.0907 - val_accuracy: 0.5375\n",
      "Epoch 40/100\n",
      "320/320 [==============================] - 5s 16ms/step - loss: 10.0689 - accuracy: 0.9844 - val_loss: 11.0869 - val_accuracy: 0.5375\n",
      "Epoch 41/100\n",
      "320/320 [==============================] - 5s 16ms/step - loss: 10.0602 - accuracy: 0.9844 - val_loss: 11.0852 - val_accuracy: 0.5250\n",
      "Epoch 42/100\n",
      "320/320 [==============================] - 5s 16ms/step - loss: 10.0456 - accuracy: 0.9937 - val_loss: 11.0658 - val_accuracy: 0.5500\n",
      "Epoch 43/100\n",
      "320/320 [==============================] - 5s 16ms/step - loss: 10.0387 - accuracy: 0.9937 - val_loss: 11.0786 - val_accuracy: 0.5000\n",
      "Epoch 44/100\n",
      "320/320 [==============================] - 5s 16ms/step - loss: 10.0255 - accuracy: 0.9906 - val_loss: 11.0525 - val_accuracy: 0.5375\n",
      "Epoch 45/100\n",
      "320/320 [==============================] - 5s 16ms/step - loss: 10.0180 - accuracy: 0.9937 - val_loss: 11.0461 - val_accuracy: 0.5375\n",
      "Epoch 46/100\n",
      "320/320 [==============================] - 5s 16ms/step - loss: 10.0078 - accuracy: 0.9937 - val_loss: 11.0621 - val_accuracy: 0.5125\n",
      "Epoch 47/100\n",
      "320/320 [==============================] - 5s 16ms/step - loss: 9.9991 - accuracy: 0.9969 - val_loss: 11.0458 - val_accuracy: 0.5125\n",
      "Epoch 48/100\n",
      "320/320 [==============================] - 5s 16ms/step - loss: 9.9878 - accuracy: 0.9969 - val_loss: 11.0374 - val_accuracy: 0.5375\n",
      "Epoch 49/100\n",
      "320/320 [==============================] - 5s 16ms/step - loss: 9.9833 - accuracy: 0.9937 - val_loss: 11.0215 - val_accuracy: 0.5625\n",
      "Epoch 50/100\n",
      "320/320 [==============================] - 5s 16ms/step - loss: 9.9742 - accuracy: 1.0000 - val_loss: 11.0193 - val_accuracy: 0.5500\n",
      "Epoch 51/100\n",
      "320/320 [==============================] - 5s 16ms/step - loss: 9.9652 - accuracy: 0.9969 - val_loss: 11.0269 - val_accuracy: 0.5250\n",
      "Epoch 52/100\n",
      "320/320 [==============================] - 5s 16ms/step - loss: 9.9569 - accuracy: 0.9937 - val_loss: 11.0026 - val_accuracy: 0.5625\n",
      "Epoch 53/100\n",
      "320/320 [==============================] - 5s 16ms/step - loss: 9.9516 - accuracy: 1.0000 - val_loss: 11.0337 - val_accuracy: 0.5000\n",
      "Epoch 54/100\n",
      "320/320 [==============================] - 5s 16ms/step - loss: 9.9458 - accuracy: 0.9937 - val_loss: 10.9923 - val_accuracy: 0.5500\n",
      "Epoch 55/100\n",
      "320/320 [==============================] - 5s 16ms/step - loss: 9.9349 - accuracy: 0.9969 - val_loss: 11.0005 - val_accuracy: 0.5250\n",
      "Epoch 56/100\n"
     ]
    },
    {
     "name": "stdout",
     "output_type": "stream",
     "text": [
      "320/320 [==============================] - 5s 16ms/step - loss: 9.9284 - accuracy: 1.0000 - val_loss: 10.9808 - val_accuracy: 0.5500\n",
      "Epoch 57/100\n",
      "320/320 [==============================] - 5s 16ms/step - loss: 9.9233 - accuracy: 0.9969 - val_loss: 11.0002 - val_accuracy: 0.5625\n",
      "Epoch 58/100\n",
      "320/320 [==============================] - 5s 16ms/step - loss: 9.9159 - accuracy: 1.0000 - val_loss: 10.9766 - val_accuracy: 0.5625\n",
      "Epoch 59/100\n",
      "320/320 [==============================] - 5s 16ms/step - loss: 9.9082 - accuracy: 1.0000 - val_loss: 10.9876 - val_accuracy: 0.5250\n",
      "Epoch 60/100\n",
      "320/320 [==============================] - 5s 16ms/step - loss: 9.9022 - accuracy: 1.0000 - val_loss: 10.9759 - val_accuracy: 0.5375\n",
      "Epoch 61/100\n",
      "320/320 [==============================] - 5s 16ms/step - loss: 9.8951 - accuracy: 0.9969 - val_loss: 10.9575 - val_accuracy: 0.5625\n",
      "Epoch 62/100\n",
      "320/320 [==============================] - 5s 16ms/step - loss: 9.8877 - accuracy: 1.0000 - val_loss: 10.9733 - val_accuracy: 0.5250\n",
      "Epoch 63/100\n",
      "320/320 [==============================] - 5s 16ms/step - loss: 9.8809 - accuracy: 1.0000 - val_loss: 10.9587 - val_accuracy: 0.5375\n",
      "Epoch 64/100\n",
      "320/320 [==============================] - 5s 16ms/step - loss: 9.8748 - accuracy: 1.0000 - val_loss: 10.9541 - val_accuracy: 0.5625\n",
      "Epoch 65/100\n",
      "320/320 [==============================] - 5s 16ms/step - loss: 9.8684 - accuracy: 1.0000 - val_loss: 10.9467 - val_accuracy: 0.5625\n",
      "Epoch 66/100\n",
      "320/320 [==============================] - 5s 16ms/step - loss: 9.8628 - accuracy: 1.0000 - val_loss: 10.9500 - val_accuracy: 0.5375\n",
      "Epoch 67/100\n",
      "320/320 [==============================] - 5s 16ms/step - loss: 9.8576 - accuracy: 1.0000 - val_loss: 10.9394 - val_accuracy: 0.5500\n",
      "Epoch 68/100\n",
      "320/320 [==============================] - 5s 16ms/step - loss: 9.8523 - accuracy: 0.9969 - val_loss: 10.9373 - val_accuracy: 0.5500\n",
      "Epoch 69/100\n",
      "320/320 [==============================] - 5s 16ms/step - loss: 9.8466 - accuracy: 1.0000 - val_loss: 10.9408 - val_accuracy: 0.5375\n",
      "Epoch 70/100\n",
      "320/320 [==============================] - 5s 16ms/step - loss: 9.8409 - accuracy: 1.0000 - val_loss: 10.9188 - val_accuracy: 0.5750\n",
      "Epoch 71/100\n",
      "320/320 [==============================] - 5s 16ms/step - loss: 9.8349 - accuracy: 1.0000 - val_loss: 10.9345 - val_accuracy: 0.5375\n",
      "Epoch 72/100\n",
      "320/320 [==============================] - 5s 16ms/step - loss: 9.8289 - accuracy: 1.0000 - val_loss: 10.9139 - val_accuracy: 0.5625\n",
      "Epoch 73/100\n",
      "320/320 [==============================] - 5s 16ms/step - loss: 9.8246 - accuracy: 1.0000 - val_loss: 10.9193 - val_accuracy: 0.5625\n",
      "Epoch 74/100\n",
      "320/320 [==============================] - 5s 16ms/step - loss: 9.8199 - accuracy: 1.0000 - val_loss: 10.9094 - val_accuracy: 0.5500\n",
      "Epoch 75/100\n",
      "320/320 [==============================] - 5s 16ms/step - loss: 9.8144 - accuracy: 1.0000 - val_loss: 10.9149 - val_accuracy: 0.5625\n",
      "Epoch 76/100\n",
      "320/320 [==============================] - 5s 16ms/step - loss: 9.8086 - accuracy: 1.0000 - val_loss: 10.9002 - val_accuracy: 0.5625\n",
      "Epoch 77/100\n",
      "320/320 [==============================] - 5s 16ms/step - loss: 9.8039 - accuracy: 1.0000 - val_loss: 10.9108 - val_accuracy: 0.5500\n",
      "Epoch 78/100\n",
      "320/320 [==============================] - 5s 16ms/step - loss: 9.7993 - accuracy: 1.0000 - val_loss: 10.8901 - val_accuracy: 0.5625\n",
      "Epoch 79/100\n",
      "320/320 [==============================] - 5s 16ms/step - loss: 9.7960 - accuracy: 1.0000 - val_loss: 10.8864 - val_accuracy: 0.5500\n",
      "Epoch 80/100\n",
      "320/320 [==============================] - 5s 16ms/step - loss: 9.7895 - accuracy: 1.0000 - val_loss: 10.8969 - val_accuracy: 0.5750\n",
      "Epoch 81/100\n",
      "320/320 [==============================] - 5s 16ms/step - loss: 9.7860 - accuracy: 1.0000 - val_loss: 10.8849 - val_accuracy: 0.5625\n",
      "Epoch 82/100\n",
      "320/320 [==============================] - 5s 16ms/step - loss: 9.7830 - accuracy: 1.0000 - val_loss: 10.8737 - val_accuracy: 0.5500\n",
      "Epoch 83/100\n",
      "320/320 [==============================] - 5s 16ms/step - loss: 9.7757 - accuracy: 1.0000 - val_loss: 10.8947 - val_accuracy: 0.5500\n",
      "Epoch 84/100\n",
      "320/320 [==============================] - 5s 16ms/step - loss: 9.7712 - accuracy: 1.0000 - val_loss: 10.8735 - val_accuracy: 0.5750\n",
      "Epoch 85/100\n",
      "320/320 [==============================] - 5s 16ms/step - loss: 9.7667 - accuracy: 1.0000 - val_loss: 10.8809 - val_accuracy: 0.5500\n",
      "Epoch 86/100\n",
      "320/320 [==============================] - 5s 16ms/step - loss: 9.7624 - accuracy: 1.0000 - val_loss: 10.8738 - val_accuracy: 0.5750\n",
      "Epoch 87/100\n",
      "320/320 [==============================] - 5s 16ms/step - loss: 9.7585 - accuracy: 1.0000 - val_loss: 10.8643 - val_accuracy: 0.5750\n",
      "Epoch 88/100\n",
      "320/320 [==============================] - 5s 16ms/step - loss: 9.7542 - accuracy: 1.0000 - val_loss: 10.8703 - val_accuracy: 0.5625\n",
      "Epoch 89/100\n",
      "320/320 [==============================] - 5s 16ms/step - loss: 9.7497 - accuracy: 1.0000 - val_loss: 10.8592 - val_accuracy: 0.5750\n",
      "Epoch 90/100\n",
      "320/320 [==============================] - 5s 16ms/step - loss: 9.7459 - accuracy: 1.0000 - val_loss: 10.8565 - val_accuracy: 0.5750\n",
      "Epoch 91/100\n",
      "320/320 [==============================] - 5s 16ms/step - loss: 9.7430 - accuracy: 1.0000 - val_loss: 10.8583 - val_accuracy: 0.5750\n",
      "Epoch 92/100\n",
      "320/320 [==============================] - 5s 16ms/step - loss: 9.7382 - accuracy: 1.0000 - val_loss: 10.8565 - val_accuracy: 0.5750\n",
      "Epoch 93/100\n",
      "320/320 [==============================] - 5s 16ms/step - loss: 9.7332 - accuracy: 1.0000 - val_loss: 10.8486 - val_accuracy: 0.5750\n",
      "Epoch 94/100\n",
      "320/320 [==============================] - 5s 16ms/step - loss: 9.7292 - accuracy: 1.0000 - val_loss: 10.8495 - val_accuracy: 0.5625\n",
      "Epoch 95/100\n",
      "320/320 [==============================] - 5s 16ms/step - loss: 9.7252 - accuracy: 1.0000 - val_loss: 10.8441 - val_accuracy: 0.5750\n",
      "Epoch 96/100\n",
      "320/320 [==============================] - 5s 16ms/step - loss: 9.7212 - accuracy: 1.0000 - val_loss: 10.8464 - val_accuracy: 0.5750\n",
      "Epoch 97/100\n",
      "320/320 [==============================] - 5s 16ms/step - loss: 9.7189 - accuracy: 1.0000 - val_loss: 10.8337 - val_accuracy: 0.5875\n",
      "Epoch 98/100\n",
      "320/320 [==============================] - 5s 16ms/step - loss: 9.7134 - accuracy: 1.0000 - val_loss: 10.8493 - val_accuracy: 0.5750\n",
      "Epoch 99/100\n",
      "320/320 [==============================] - 5s 16ms/step - loss: 9.7100 - accuracy: 1.0000 - val_loss: 10.8330 - val_accuracy: 0.5750\n",
      "Epoch 100/100\n",
      "320/320 [==============================] - 5s 16ms/step - loss: 9.7063 - accuracy: 1.0000 - val_loss: 10.8303 - val_accuracy: 0.5875\n"
     ]
    }
   ],
   "source": [
    "history = model.fit(x=x_train, y=y_train,\n",
    "                    validation_data=(x_test, y_test),\n",
    "                    epochs=num_epochs,\n",
    "                    verbose=1)"
   ]
  },
  {
   "cell_type": "markdown",
   "metadata": {},
   "source": [
    "### Plotting Accuracy and Loss"
   ]
  },
  {
   "cell_type": "code",
   "execution_count": 15,
   "metadata": {},
   "outputs": [],
   "source": [
    "def plot_history(history):\n",
    "    %matplotlib inline\n",
    "\n",
    "    acc=history.history['accuracy']\n",
    "    val_acc=history.history['val_accuracy']\n",
    "    loss=history.history['loss']\n",
    "    val_loss=history.history['val_loss']\n",
    "\n",
    "    epochs=range(len(acc)) \n",
    "\n",
    "    plt.plot(epochs, acc, 'r', \"Training Accuracy\")\n",
    "    plt.plot(epochs, val_acc, 'b', \"Validation Accuracy\")\n",
    "    plt.title('Training and validation accuracy')\n",
    "    plt.figure()\n",
    "\n",
    "    plt.plot(epochs, loss, 'r', \"Training Loss\")\n",
    "    plt.plot(epochs, val_loss, 'b', \"Validation Loss\")\n",
    "    plt.title('Training and validation Loss')\n",
    "    plt.figure()\n",
    "\n",
    "    ACC_PLOT_NAME = '%s_classes_%s_epochs_%.4f_%.4f.png' % (4, 200, acc[-1], val_acc[-1])\n",
    "    LOSS_PLOT_NAME = '%s_classes_%s_epochs_%.4f_%.4f.png' % (4, 200, loss[-1], val_loss[-1])\n",
    "\n",
    "    ACC_PLOT_DIR = os.path.join('./plots/acc/', ACC_PLOT_NAME) \n",
    "    LOSS_PLOT_DIR = os.path.join('./plots/loss/', LOSS_PLOT_NAME)\n",
    "    return"
   ]
  },
  {
   "cell_type": "code",
   "execution_count": 16,
   "metadata": {},
   "outputs": [
    {
     "data": {
      "image/png": "[encoded data removed]",
      "text/plain": [
       "<Figure size 432x288 with 1 Axes>"
      ]
     },
     "metadata": {
      "needs_background": "light"
     },
     "output_type": "display_data"
    },
    {
     "data": {
      "image/png": "[encoded data removed]",
      "text/plain": [
       "<Figure size 432x288 with 1 Axes>"
      ]
     },
     "metadata": {
      "needs_background": "light"
     },
     "output_type": "display_data"
    },
    {
     "data": {
      "text/plain": [
       "<Figure size 432x288 with 0 Axes>"
      ]
     },
     "metadata": {},
     "output_type": "display_data"
    }
   ],
   "source": [
    "plot_history(history)"
   ]
  },
  {
   "cell_type": "markdown",
   "metadata": {},
   "source": [
    "## Evaluating Test set"
   ]
  },
  {
   "cell_type": "markdown",
   "metadata": {},
   "source": [
    "### Reading Test Images"
   ]
  },
  {
   "cell_type": "code",
   "execution_count": 17,
   "metadata": {},
   "outputs": [],
   "source": [
    "def read_test_images(test_dir):\n",
    "    test_imgs = []\n",
    "    img_names = os.listdir(test_dir)\n",
    "    print(\"Started reading images.\")\n",
    "    for img_name in img_names:\n",
    "        img_path = test_dir + img_name\n",
    "        img = image.load_img(img_path, target_size=(IMG_SIZE, IMG_SIZE))\n",
    "        x = image.img_to_array(img)\n",
    "        x = np.expand_dims(x, axis=0)\n",
    "        x = preprocess_input(x)\n",
    "        test_imgs.append(x)\n",
    "        \n",
    "    \n",
    "    test_imgs = np.asarray(test_imgs)\n",
    "    test_imgs = np.vstack(test_imgs)\n",
    "    print(\"Reading images finished!\")\n",
    "    return test_imgs"
   ]
  },
  {
   "cell_type": "code",
   "execution_count": 18,
   "metadata": {},
   "outputs": [
    {
     "name": "stdout",
     "output_type": "stream",
     "text": [
      "Started reading images.\n",
      "Reading images finished!\n"
     ]
    }
   ],
   "source": [
    "test_images = read_test_images(TEST_PHOTOS_DIR)"
   ]
  },
  {
   "cell_type": "markdown",
   "metadata": {},
   "source": [
    "### Predicting Test set"
   ]
  },
  {
   "cell_type": "code",
   "execution_count": 19,
   "metadata": {},
   "outputs": [],
   "source": [
    "preds = model.predict(test_images)"
   ]
  },
  {
   "cell_type": "code",
   "execution_count": 20,
   "metadata": {},
   "outputs": [],
   "source": [
    "preds = [np.argmax(i) for i in preds]"
   ]
  },
  {
   "cell_type": "code",
   "execution_count": 21,
   "metadata": {},
   "outputs": [
    {
     "name": "stdout",
     "output_type": "stream",
     "text": [
      "Predictions: [2, 1, 0, 3, 0, 2, 3, 0, 2, 3, 0, 3, 3, 0, 3, 1, 3, 1, 3, 2, 2, 0, 1, 0, 3, 2, 1, 1, 1, 2, 3, 1, 0, 1, 2, 2, 2, 3, 3, 2, 1, 3, 3, 2, 2, 3, 0, 2, 1, 2, 1, 0, 0, 3, 2, 2, 2, 2, 0, 3, 1, 1, 3, 0, 0, 1, 1, 2, 3, 3, 0, 2, 1, 3, 3, 0, 3, 3, 2, 2, 0, 0, 0, 3, 1, 0, 3, 2, 3, 1, 3, 3, 2, 1, 2, 3, 1, 2, 3, 3]\n"
     ]
    }
   ],
   "source": [
    "print(\"Predictions:\", preds)"
   ]
  },
  {
   "cell_type": "markdown",
   "metadata": {},
   "source": [
    "### Composing CSV File"
   ]
  },
  {
   "cell_type": "code",
   "execution_count": 22,
   "metadata": {},
   "outputs": [],
   "source": [
    "def create_csv_file(preds):\n",
    "    with open('pred.cvs', 'w+') as file:\n",
    "        file.write('case,class\\n')\n",
    "        for idx, pred in enumerate(preds):\n",
    "            file.write(str(idx) + ',' + str(pred) + '\\n')\n",
    "    ZipObj = zipfile.ZipFile('predictions.zip', 'w')\n",
    "    ZipObj.write('pred.cvs')\n",
    "    print(\"File predictions.zip created successfully.\")\n",
    "    return"
   ]
  },
  {
   "cell_type": "code",
   "execution_count": 23,
   "metadata": {},
   "outputs": [
    {
     "name": "stdout",
     "output_type": "stream",
     "text": [
      "Previous Predictions.zip has been removed.\n"
     ]
    }
   ],
   "source": [
    "if os.path.exists('./predictions.zip'):\n",
    "    !rm -rf predictions.zip\n",
    "    print(\"Previous Predictions.zip has been removed.\")"
   ]
  },
  {
   "cell_type": "code",
   "execution_count": 24,
   "metadata": {},
   "outputs": [
    {
     "name": "stdout",
     "output_type": "stream",
     "text": [
      "File predictions.zip created successfully.\n"
     ]
    }
   ],
   "source": [
    "create_csv_file(preds)"
   ]
  },
  {
   "cell_type": "code",
   "execution_count": null,
   "metadata": {},
   "outputs": [],
   "source": []
  }
 ],
 "metadata": {
  "kernelspec": {
   "display_name": "Python 3",
   "language": "python",
   "name": "python3"
  },
  "language_info": {
   "codemirror_mode": {
    "name": "ipython",
    "version": 3
   },
   "file_extension": ".py",
   "mimetype": "text/x-python",
   "name": "python",
   "nbconvert_exporter": "python",
   "pygments_lexer": "ipython3",
   "version": "3.6.10"
  }
 },
 "nbformat": 4,
 "nbformat_minor": 4
}
